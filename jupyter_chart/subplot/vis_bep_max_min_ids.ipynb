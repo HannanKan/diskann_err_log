{
 "cells": [
  {
   "cell_type": "code",
   "execution_count": 1,
   "source": [
    "fp=open(\"/home/node/ann/mycode/cluster/experiment_data/v1/bep_max_min_ids.txt\")\n",
    "\n",
    "max_bp=[]\n",
    "min_bp=[]\n",
    "all_ids=set()\n",
    "\n",
    "i=0\n",
    "for line in fp:\n",
    "    max_ids=line.strip().split(\";\")[0]\n",
    "    min_ids=line.strip().split(\";\")[1]\n",
    "    max_ids=max_ids.split(\",\")\n",
    "    min_ids=min_ids.split(\",\")\n",
    "    all_ids.update(max_ids)\n",
    "    all_ids.update(min_ids)\n",
    "    max_bp.append((i, max_ids))\n",
    "    min_bp.append((i, min_ids))\n",
    "    i=i+1\n",
    "\n",
    "print(all_ids)"
   ],
   "outputs": [
    {
     "output_type": "stream",
     "name": "stdout",
     "text": [
      "{'1921238', '5837815', '7103769', '3064652', '5307158', '2382040', '7013048', '6554330', '9948298', '4632694', '3827605', '5756698', '3518350'}\n"
     ]
    }
   ],
   "metadata": {}
  },
  {
   "cell_type": "code",
   "execution_count": 2,
   "source": [
    "# map\n",
    "i=0\n",
    "mapped_y={}\n",
    "for origin in all_ids:\n",
    "    mapped_y[origin]=\"bep\"+str(i)\n",
    "    i=i+1\n",
    "\n",
    "# print(mapped_y)\n",
    "# print(max_bp)\n",
    "\n",
    "tmp=[]\n",
    "for (k,v) in max_bp:\n",
    "    v1=[mapped_y[x] for x in v ]\n",
    "    tmp.append((k,v1))\n",
    "max_bp=tmp\n",
    "\n",
    "\n",
    "tmp=[]\n",
    "for (k,v) in min_bp:\n",
    "    v1=[mapped_y[x] for x in v]\n",
    "    tmp.append((k,v1))\n",
    "min_bp=tmp\n"
   ],
   "outputs": [],
   "metadata": {}
  },
  {
   "cell_type": "code",
   "execution_count": 3,
   "source": [
    "max_bp1=max_bp[:25]\n",
    "max_bp2=max_bp[25:50]\n",
    "max_bp3=max_bp[50:75]\n",
    "max_bp4=max_bp[75:100]\n",
    "min_bp1=min_bp[:25]\n",
    "min_bp2=min_bp[25:50]\n",
    "min_bp3=min_bp[50:75]\n",
    "min_bp4=min_bp[75:100]"
   ],
   "outputs": [],
   "metadata": {}
  },
  {
   "cell_type": "code",
   "execution_count": 58,
   "source": [
    "import matplotlib.pyplot as plt\n",
    "\n",
    "fig, axs = plt.subplots(2, 2, constrained_layout=True)\n",
    "plt.rcParams[\"figure.figsize\"]=(6,6)\n",
    "\n",
    "XS=[[],[],[],[]]\n",
    "YS=[[],[],[],[]]\n",
    "for i_plot in range(4):\n",
    "\n",
    "    start=i_plot*25\n",
    "    end=(i_plot+1)*25\n",
    "\n",
    "    # 让纵坐标按顺序显示\n",
    "    X=[i for i in range(start,start+13)]\n",
    "    Y=['bep'+str(i) for i in range(13)]\n",
    "    pos_x=int(i_plot/2)\n",
    "    pos_y=i_plot%2\n",
    "    axs[pos_x, pos_y].scatter(X,Y, c='w')\n",
    "\n",
    "    X0=XS[i_plot]\n",
    "    Y0=XS[i_plot]\n",
    "\n",
    "    for (k,v) in max_bp[start:end]:\n",
    "        X0=X0+([k]*len(v))\n",
    "        Y0=Y0+v\n",
    "    s1=axs[pos_x, pos_y].scatter(X0, Y0,marker='+',c='g', label=\"best bep\")\n",
    "\n",
    "\n",
    "    X1=XS[i_plot]\n",
    "    Y1=XS[i_plot]\n",
    "    for (k,v) in min_bp[start:end]:\n",
    "        X1=X1+([k]*len(v))\n",
    "        Y1=Y1+v\n",
    "    s2=axs[pos_x, pos_y].scatter(X1, Y1, marker='.',c='r', label=\"worst bep\")\n",
    "\n",
    "    if pos_y == 1:\n",
    "        axs[pos_x,pos_y].set_yticks([])\n",
    "\n",
    "\n",
    "plt.suptitle('best and worst bep')\n",
    "fig.text(0.5, -0.035, 'cluster id', ha='center')\n",
    "fig.legend(loc=4, bbox_to_anchor=[1,-0.05], borderaxespad=0., handles=[s1,s2], ncol=2)\n"
   ],
   "outputs": [
    {
     "output_type": "execute_result",
     "data": {
      "text/plain": [
       "<matplotlib.legend.Legend at 0x7f1bcf2b4190>"
      ]
     },
     "metadata": {},
     "execution_count": 58
    },
    {
     "output_type": "display_data",
     "data": {
      "image/png": "[encoded data removed]",
      "text/plain": [
       "<Figure size 432x432 with 4 Axes>"
      ]
     },
     "metadata": {
      "needs_background": "light"
     }
    }
   ],
   "metadata": {}
  }
 ],
 "metadata": {
  "orig_nbformat": 4,
  "kernelspec": {
   "name": "python3",
   "display_name": "Python 3",
   "language": "python"
  },
  "language_info": {
   "name": "python",
   "version": "3.8.10",
   "mimetype": "text/x-python",
   "codemirror_mode": {
    "name": "ipython",
    "version": 3
   },
   "pygments_lexer": "ipython3",
   "nbconvert_exporter": "python",
   "file_extension": ".py"
  }
 },
 "nbformat": 4,
 "nbformat_minor": 2
}